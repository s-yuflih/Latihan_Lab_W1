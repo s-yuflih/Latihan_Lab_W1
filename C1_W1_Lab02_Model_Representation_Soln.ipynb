{
  "cells": [
    {
      "cell_type": "markdown",
      "metadata": {
        "id": "VPNKr85tdBW3"
      },
      "source": [
        "# Model Representation\n",
        "\n",
        "<figure>\n",
        " <img src=\"https://github.com/s-yuflih/Lab_W1/blob/main/images/C1_W1_L3_S1_Lecture_b.png?raw=1\"   style=\"width:600px;height:200px;\">\n",
        "</figure>"
      ],
      "id": "VPNKr85tdBW3"
    },
    {
      "cell_type": "markdown",
      "metadata": {
        "id": "wVIZ4ZdPdBW9"
      },
      "source": [
        "## Tujuan\n",
        "Dalam praktik lab ini, Anda akan:\n",
        "- Mempelajari cara mengimplementasikan model $f_{w,b}$ untuk linear regresi dengan satu variabel."
      ],
      "id": "wVIZ4ZdPdBW9"
    },
    {
      "cell_type": "markdown",
      "metadata": {
        "id": "2Ium1yCqdBW_"
      },
      "source": [
        "## Notasi\n",
        "Berikut adalah ringkasan beberapa notasi yang akan Anda temui.  \n",
        "\n",
        "|General <img width=70/> <br />  Notation  <img width=70/> | Description<img width=350/>| Python (if applicable) |\n",
        "|: ------------|: ------------------------------------------------------------||\n",
        "| $a$ | scalar, non bold                                                      ||\n",
        "| $\\mathbf{a}$ | vector, bold                                                      ||\n",
        "| **Regression** |         |    |     |\n",
        "|  $\\mathbf{x}$ | Training Example feature values (in this lab - Size (1000 sqft))  | `x_train` |   \n",
        "|  $\\mathbf{y}$  | Training Example  targets (in this lab Price (1000s of dollars))  | `y_train`\n",
        "|  $x^{(i)}$, $y^{(i)}$ | $i_{th}$Training Example | `x_i`, `y_i`|\n",
        "| m | Number of training examples | `m`|\n",
        "|  $w$  |  parameter: weight                                 | `w`    |\n",
        "|  $b$           |  parameter: bias                                           | `b`    |     \n",
        "| $f_{w,b}(x^{(i)})$ | The result of the model evaluation at $x^{(i)}$ parameterized by $w,b$: $f_{w,b}(x^{(i)}) = wx^{(i)}+b$  | `f_wb` |\n"
      ],
      "id": "2Ium1yCqdBW_"
    },
    {
      "cell_type": "markdown",
      "metadata": {
        "id": "CNt-mCoYdBXD"
      },
      "source": [
        "## Tools yang Digunakan\n",
        "Dalam lab ini Anda akan menggunakan:\n",
        "- **NumPy**, pustaka populer untuk komputasi ilmiah\n",
        "- **Matplotlib**, pustaka populer untuk visualisasi data"
      ],
      "id": "CNt-mCoYdBXD"
    },
    {
      "cell_type": "code",
      "execution_count": null,
      "metadata": {
        "id": "sEiDpoS5dBXE"
      },
      "outputs": [],
      "source": [
        "import numpy as np\n",
        "import matplotlib.pyplot as plt"
      ],
      "id": "sEiDpoS5dBXE"
    },
    {
      "cell_type": "markdown",
      "metadata": {
        "id": "CInAx-bPdBXH"
      },
      "source": [
        "# Pernyataan Masalah\n",
        "<img align=\"left\" src=\"https://github.com/s-yuflih/Lab_W1/blob/main/images/C1_W1_L3_S1_trainingdata.png?raw=1\"    style=\" width:380px; padding: 10px;  \" />\n",
        "\n",
        "Seperti yang dijelaskan dalam modul, Anda akan menggunakan contoh prediksi harga rumah.\n",
        "Lab ini akan menggunakan dataset sederhana hanya dengan dua titik data:\n",
        "- Sebuah rumah dengan luas 1000 sqft terjual seharga $300.000\n",
        "- Sebuah rumah dengan luas 2000 sqft terjual seharga $500.000\n",
        "\n",
        "Dua titik ini akan menjadi data pelatihan kita. Dalam lab ini:\n",
        "- Unit ukuran: **1000 sqft**\n",
        "- Unit harga: **ribuan dolar**\n",
        "\n",
        "| Ukuran (1000 sqft)     | Harga (ribu dolar) |\n",
        "| -------------------| ------------------------ |\n",
        "| 1.0               | 300                      |\n",
        "| 2.0               | 500                      |\n",
        "\n",
        "Tujuan Anda adalah memodelkan regresi linear (digambarkan sebagai garis lurus biru) yang melalui dua titik ini, sehingga Anda bisa memprediksi harga rumah lainnya—misalnya rumah dengan ukuran **1200 sqft**.\n"
      ],
      "id": "CInAx-bPdBXH"
    },
    {
      "cell_type": "markdown",
      "metadata": {
        "id": "UPDkh2gUdBXJ"
      },
      "source": [
        "Silakan jalankan sel kode berikut untuk membuat variabel `x_train` dan `y_train`. Data disimpan dalam array NumPy satu dimensi."
      ],
      "id": "UPDkh2gUdBXJ"
    },
    {
      "cell_type": "code",
      "execution_count": null,
      "metadata": {
        "id": "cAur_v8OdBXM"
      },
      "outputs": [],
      "source": [
        "# x_train adalah variabel input (ukuran dalam 1000 kaki persegi)\n",
        "# y_train adalah target (harga dalam ribuan dolar)\n",
        "x_train = np.array([1.0, 2.0])\n",
        "y_train = np.array([300.0, 500.0])\n",
        "print(f\"x_train = {x_train}\")\n",
        "print(f\"y_train = {y_train}\")"
      ],
      "id": "cAur_v8OdBXM"
    },
    {
      "cell_type": "markdown",
      "metadata": {
        "id": "4t7unla3dBXO"
      },
      "source": [
        ">**Catatan**: Latihan ini sering menggunakan format output Python [f-string'](https://docs.python.org/3/tutorial/inputoutput.html)."
      ],
      "id": "4t7unla3dBXO"
    },
    {
      "cell_type": "markdown",
      "metadata": {
        "id": "6xcP6gnMdBXS"
      },
      "source": [
        "### Jumlah Contoh Pelatihan `m`\n",
        "Anda akan menggunakan `m` untuk menyatakan jumlah contoh pelatihan (training examples). Array NumPy memiliki parameter `.shape`. `x_train.shape` akan mengembalikan tuple Python dengan elemen untuk setiap dimensi array. `x_train.shape[0]` menunjukkan panjang array tersebut, yang berarti jumlah contoh pelatihan, seperti ditunjukkan di bawah ini."
      ],
      "id": "6xcP6gnMdBXS"
    },
    {
      "cell_type": "code",
      "execution_count": null,
      "metadata": {
        "id": "gcxVgY1PdBXU"
      },
      "outputs": [],
      "source": [
        "# m adalah jumlah contoh pelatihan\n",
        "print(f\"x_train.shape: {x_train.shape}\")\n",
        "m = x_train.shape[0]\n",
        "print(f\"Jumlah contoh pelatihan adalah: {m}\")"
      ],
      "id": "gcxVgY1PdBXU"
    },
    {
      "cell_type": "markdown",
      "metadata": {
        "id": "Huz15YEWdBXW"
      },
      "source": [
        "Anda juga bisa menggunakan fungsi `len()` dalam Python untuk mendapatkan jumlah contoh, seperti berikut:"
      ],
      "id": "Huz15YEWdBXW"
    },
    {
      "cell_type": "code",
      "execution_count": null,
      "metadata": {
        "id": "O4U5kWvVdBXX"
      },
      "outputs": [],
      "source": [
        "# m adalah jumlah contoh pelatihan\n",
        "m = len(x_train)\n",
        "print(f\"Jumlah contoh pelatihan adalah: {m}\")"
      ],
      "id": "O4U5kWvVdBXX"
    },
    {
      "cell_type": "markdown",
      "metadata": {
        "id": "ITZFYHM3dBXY"
      },
      "source": [
        "### Contoh Pelatihan ke-i `x_i, y_i`\n",
        "\n",
        "Anda akan menggunakan notasi $(x^{(i)}, y^{(i)})$ untuk menyatakan contoh pelatihan ke-i. Karena Python menggunakan indeks mulai dari nol (zero-indexed), maka $(x^{(0)}, y^{(0)})$ adalah $(1.0, 300.0)$ dan $(x^{(1)}, y^{(1)})$ adalah $(2.0, 500.0)$.\n",
        "\n",
        "Untuk mengakses nilai dalam array NumPy, Anda dapat menggunakan indeks sesuai dengan posisi yang diinginkan. Misalnya, sintaks untuk mengakses elemen pertama dari `x_train` adalah `x_train[0]`.\n",
        "\n",
        "Silakan jalankan blok kode berikut untuk mendapatkan contoh pelatihan ke-i:"
      ],
      "id": "ITZFYHM3dBXY"
    },
    {
      "cell_type": "code",
      "execution_count": null,
      "metadata": {
        "id": "5cPU4ohJdBXZ"
      },
      "outputs": [],
      "source": [
        "i = 0 # Ubah ini ke 0 atau 1 untuk melihat (x^(i), y^(i))\n",
        "\n",
        "x_i = x_train[i]\n",
        "y_i = y_train[i]\n",
        "print(f\"(x^({i}), y^({i})) = ({x_i}, {y_i})\")"
      ],
      "id": "5cPU4ohJdBXZ"
    },
    {
      "cell_type": "markdown",
      "metadata": {
        "id": "oQr7x2TsdBXb"
      },
      "source": [
        "### Memvisualisasikan Data"
      ],
      "id": "oQr7x2TsdBXb"
    },
    {
      "cell_type": "markdown",
      "metadata": {
        "id": "iFdg8qUvdBXb"
      },
      "source": [
        "Anda dapat memvisualisasikan kedua titik data ini menggunakan fungsi `scatter()` dari pustaka `matplotlib`, seperti yang ditunjukkan pada blok kode di bawah ini.\n",
        "\n",
        "Argumen `marker` dan `c` digunakan untuk mengatur bentuk dan warna titik. Dalam contoh ini, `marker='x'` dan `c='r'` digunakan untuk menampilkan titik sebagai tanda silang merah (default-nya adalah titik biru).\n",
        "\n",
        "Anda juga dapat menggunakan fungsi lain dalam pustaka `matplotlib` untuk mengatur judul grafik dan label sumbu agar lebih informatif.\n",
        "\n",
        "Berikut adalah contoh penggunaannya:"
      ],
      "id": "iFdg8qUvdBXb"
    },
    {
      "cell_type": "code",
      "execution_count": null,
      "metadata": {
        "id": "D8Tbu5xtdBXd"
      },
      "outputs": [],
      "source": [
        "# Menampilkan data menggunakan scatter plot\n",
        "plt.scatter(x_train, y_train, marker='x', c='r')  # Titik merah berbentuk silang\n",
        "\n",
        "# Mengatur judul grafik\n",
        "plt.title(\"Harga Rumah\")\n",
        "\n",
        "# Mengatur label sumbu-y\n",
        "plt.ylabel(\"Harga (dalam ribuan dolar)\")\n",
        "\n",
        "# Mengatur label sumbu-x\n",
        "plt.xlabel(\"Ukuran (1000 kaki persegi)\")\n",
        "\n",
        "# Menampilkan grafik\n",
        "plt.show()"
      ],
      "id": "D8Tbu5xtdBXd"
    },
    {
      "cell_type": "markdown",
      "metadata": {
        "id": "deqd11YPdBXe"
      },
      "source": [
        "## Fungsi Model\n",
        "\n",
        "<img align=\"left\" src=\"https://github.com/s-yuflih/Lab_W1/blob/main/images/C1_W1_L3_S1_model.png?raw=1\"     style=\" width:380px; padding: 10px; \" > Seperti yang dijelaskan dalam kuliah, fungsi model untuk **regresi linier** (yaitu fungsi yang memetakan dari x ke y) dinyatakan sebagai:\n",
        "\n",
        "$$\n",
        "f_{w,b}(x^{(i)}) = w \\cdot x^{(i)} + b \\tag{1}\n",
        "$$\n",
        "\n",
        "Rumus di atas merupakan cara untuk merepresentasikan **garis lurus** — nilai-nilai yang berbeda dari **w** (kemiringan/slope) dan **b** (intersep/titik potong) akan menghasilkan garis lurus yang berbeda pada grafik.\n",
        "\n",
        "Mari kita coba memahami konsep ini lebih baik melalui blok kode di bawah. Kita akan mulai dengan nilai:\n",
        "\n",
        "* `w = 100`\n",
        "* `b = 100`\n",
        "\n",
        "> 💡 *Catatan: Anda dapat kembali ke bagian ini nanti untuk mengubah nilai parameter w dan b sesuai keinginan.*"
      ],
      "id": "deqd11YPdBXe"
    },
    {
      "cell_type": "code",
      "execution_count": null,
      "metadata": {
        "id": "dO2JDhOAdBXf"
      },
      "outputs": [],
      "source": [
        "w = 100\n",
        "b = 100\n",
        "print(f\"w: {w}\")\n",
        "print(f\"b: {b}\")"
      ],
      "id": "dO2JDhOAdBXf"
    },
    {
      "cell_type": "markdown",
      "metadata": {
        "id": "oSyakUphdBXg"
      },
      "source": [
        "Sekarang, mari kita hitung nilai dari $f_{w,b}(x^{(i)})$ untuk dua titik data Anda. Anda bisa menuliskannya secara eksplisit untuk masing-masing titik data seperti berikut:\n",
        "\n",
        "* Untuk $x(0)$, maka $f_{w,b} = w \\cdot x[0] + b$\n",
        "* Untuk $x(1)$, maka $f_{w,b} = w \\cdot x[1] + b$\n",
        "\n",
        "Jika terdapat banyak titik data, cara ini akan menjadi merepotkan dan berulang. Oleh karena itu, Anda bisa menghitung keluaran fungsi tersebut menggunakan **perulangan `for`**, seperti yang ditunjukkan pada fungsi `compute_model_output` di bawah ini.\n",
        "\n",
        "> 💡 Catatan: Deskripsi argumen `(ndarray (m,))` menunjukkan bahwa input berupa array Numpy berdimensi satu dengan panjang m. `(scalar)` menunjukkan bahwa argumen tersebut berupa skalar (tanpa dimensi, hanya berupa nilai).\n",
        ">\n",
        "> 💡 Catatan: `np.zeros(n)` akan menghasilkan array numpy berdimensi satu dengan **n entri**, semuanya bernilai nol."
      ],
      "id": "oSyakUphdBXg"
    },
    {
      "cell_type": "code",
      "execution_count": null,
      "metadata": {
        "id": "vB5gkHJbdBXh"
      },
      "outputs": [],
      "source": [
        "def compute_model_output(x, w, b):\n",
        "    \"\"\"\n",
        "    Menghitung prediksi dari model linear\n",
        "    Argumen:\n",
        "        x (ndarray (m,)): Data, m contoh\n",
        "        w, b (skalar): Parameter model\n",
        "    Output:\n",
        "        f_wb (ndarray (m,)): Prediksi model\n",
        "    \"\"\"\n",
        "    m = x.shape[0]\n",
        "    f_wb = np.zeros(m)\n",
        "    for i in range(m):\n",
        "        f_wb[i] = w * x[i] + b\n",
        "\n",
        "    return f_wb"
      ],
      "id": "vB5gkHJbdBXh"
    },
    {
      "cell_type": "markdown",
      "metadata": {
        "id": "sEyOMa-qdBXh"
      },
      "source": [
        "Sekarang, mari kita panggil fungsi `compute_model_output` dan tampilkan hasilnya dalam bentuk plot."
      ],
      "id": "sEyOMa-qdBXh"
    },
    {
      "cell_type": "code",
      "execution_count": null,
      "metadata": {
        "id": "70BusLIEdBXi"
      },
      "outputs": [],
      "source": [
        "tmp_f_wb = compute_model_output(x_train, w, b,)\n",
        "\n",
        "# Menampilkan prediksi model kita\n",
        "plt.plot(x_train, tmp_f_wb, c='b',label='Prediksi Kita')\n",
        "\n",
        "# Menampilkan titik-titik data aktual\n",
        "plt.scatter(x_train, y_train, marker='x', c='r',label='Nilai Aktual')\n",
        "\n",
        "# Menambahkan judul grafik\n",
        "plt.title(\"Harga Rumah\")\n",
        "# Menambahkan label pada sumbu y\n",
        "plt.ylabel('Harga (dalam ribuan dolar)')\n",
        "# Menambahkan label pada sumbu x\n",
        "plt.xlabel('Luas (1000 kaki persegi)')\n",
        "plt.legend()\n",
        "plt.show()"
      ],
      "id": "70BusLIEdBXi"
    },
    {
      "cell_type": "markdown",
      "metadata": {
        "id": "Nce2ESahdBXj"
      },
      "source": [
        "Seperti yang dapat Anda lihat, menetapkan nilai $w = 100$ dan $b = 100$ tidak menghasilkan garis yang sesuai dengan data kita."
      ],
      "id": "Nce2ESahdBXj"
    },
    {
      "cell_type": "markdown",
      "metadata": {
        "id": "npCgb_8vdBXk"
      },
      "source": [
        "<details>\n",
        "<summary>\n",
        "    <font size='3', color='darkgreen'><b>Bantuan</b></font>\n",
        "</summary>\n",
        "    <p>\n",
        "    <ul>\n",
        "        <li>Coba $w = 200$ dan $b = 100$ </li>\n",
        "    </ul>\n",
        "    </p>"
      ],
      "id": "npCgb_8vdBXk"
    },
    {
      "cell_type": "markdown",
      "metadata": {
        "id": "gXx_OnufdBXl"
      },
      "source": [
        "### Prediksi\n",
        "Sekarang kita telah memiliki sebuah model, kita bisa menggunakannya untuk membuat prediksi awal kita. Mari kita prediksi harga sebuah rumah dengan luas 1200 sqft. Karena satuan dari $x$ adalah dalam ribuan sqft, maka nilai $x$ adalah 1.2.\n"
      ],
      "id": "gXx_OnufdBXl"
    },
    {
      "cell_type": "code",
      "execution_count": null,
      "metadata": {
        "id": "zWp0uK6DdBXm"
      },
      "outputs": [],
      "source": [
        "w = # input prediksi w\n",
        "b = # input prediksi b\n",
        "x_i = 1.2\n",
        "cost_1200sqft = w * x_i + b\n",
        "\n",
        "print(f\"${cost_1200sqft:.0f} tribu dolar\")"
      ],
      "id": "zWp0uK6DdBXm"
    },
    {
      "cell_type": "code",
      "execution_count": null,
      "metadata": {
        "id": "uER31qOIdBXn"
      },
      "outputs": [],
      "source": [],
      "id": "uER31qOIdBXn"
    }
  ],
  "metadata": {
    "kernelspec": {
      "display_name": "Python 3",
      "language": "python",
      "name": "python3"
    },
    "language_info": {
      "codemirror_mode": {
        "name": "ipython",
        "version": 3
      },
      "file_extension": ".py",
      "mimetype": "text/x-python",
      "name": "python",
      "nbconvert_exporter": "python",
      "pygments_lexer": "ipython3",
      "version": "3.7.6"
    },
    "toc-autonumbering": false,
    "colab": {
      "provenance": []
    }
  },
  "nbformat": 4,
  "nbformat_minor": 5
}