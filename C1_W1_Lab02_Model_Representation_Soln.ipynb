{
  "cells": [
    {
      "cell_type": "markdown",
      "metadata": {
        "id": "VPNKr85tdBW3"
      },
      "source": [
        "# Model Representation\n",
        "\n",
        "<figure>\n",
        " <img src=\"https://github.com/s-yuflih/Lab_W1/blob/main/images/C1_W1_L3_S1_Lecture_b.png?raw=1\"   style=\"width:600px;height:200px;\">\n",
        "</figure>"
      ],
      "id": "VPNKr85tdBW3"
    },
    {
      "cell_type": "markdown",
      "metadata": {
        "id": "wVIZ4ZdPdBW9"
      },
      "source": [
        "## Tujuan\n",
        "Dalam praktik lab ini, Anda akan:\n",
        "- Mempelajari cara mengimplementasikan model $f_{w,b}$ untuk linear regresi dengan satu variabel."
      ],
      "id": "wVIZ4ZdPdBW9"
    },
    {
      "cell_type": "markdown",
      "metadata": {
        "id": "2Ium1yCqdBW_"
      },
      "source": [
        "## Notasi\n",
        "Berikut adalah ringkasan beberapa notasi yang akan Anda temui.  \n",
        "\n",
        "|General <img width=70/> <br />  Notation  <img width=70/> | Description<img width=350/>| Python (if applicable) |\n",
        "|: ------------|: ------------------------------------------------------------||\n",
        "| $a$ | scalar, non bold                                                      ||\n",
        "| $\\mathbf{a}$ | vector, bold                                                      ||\n",
        "| **Regression** |         |    |     |\n",
        "|  $\\mathbf{x}$ | Training Example feature values (in this lab - Size (1000 sqft))  | `x_train` |   \n",
        "|  $\\mathbf{y}$  | Training Example  targets (in this lab Price (1000s of dollars))  | `y_train`\n",
        "|  $x^{(i)}$, $y^{(i)}$ | $i_{th}$Training Example | `x_i`, `y_i`|\n",
        "| m | Number of training examples | `m`|\n",
        "|  $w$  |  parameter: weight                                 | `w`    |\n",
        "|  $b$           |  parameter: bias                                           | `b`    |     \n",
        "| $f_{w,b}(x^{(i)})$ | The result of the model evaluation at $x^{(i)}$ parameterized by $w,b$: $f_{w,b}(x^{(i)}) = wx^{(i)}+b$  | `f_wb` |\n"
      ],
      "id": "2Ium1yCqdBW_"
    },
    {
      "cell_type": "markdown",
      "metadata": {
        "id": "CNt-mCoYdBXD"
      },
      "source": [
        "## Tools yang Digunakan\n",
        "Dalam lab ini Anda akan menggunakan:\n",
        "- **NumPy**, pustaka populer untuk komputasi ilmiah\n",
        "- **Matplotlib**, pustaka populer untuk visualisasi data"
      ],
      "id": "CNt-mCoYdBXD"
    },
    {
      "cell_type": "code",
      "execution_count": null,
      "metadata": {
        "id": "sEiDpoS5dBXE"
      },
      "outputs": [],
      "source": [
        "import numpy as np\n",
        "import matplotlib.pyplot as plt"
      ],
      "id": "sEiDpoS5dBXE"
    },
    {
      "cell_type": "markdown",
      "metadata": {
        "id": "CInAx-bPdBXH"
      },
      "source": [
        "# Pernyataan Masalah\n",
        "<img align=\"left\" src=\"https://github.com/s-yuflih/Lab_W1/blob/main/images/C1_W1_L3_S1_trainingdata.png?raw=1\"    style=\" width:380px; padding: 10px;  \" />\n",
        "\n",
        "Seperti yang dijelaskan dalam modul, Anda akan menggunakan contoh prediksi harga rumah.\n",
        "Lab ini akan menggunakan dataset sederhana hanya dengan dua titik data:\n",
        "- Sebuah rumah dengan luas 1000 sqft terjual seharga $300.000\n",
        "- Sebuah rumah dengan luas 2000 sqft terjual seharga $500.000\n",
        "\n",
        "Dua titik ini akan menjadi data pelatihan kita. Dalam lab ini:\n",
        "- Unit ukuran: **1000 sqft**\n",
        "- Unit harga: **ribuan dolar**\n",
        "\n",
        "| Ukuran (1000 sqft)     | Harga (ribu dolar) |\n",
        "| -------------------| ------------------------ |\n",
        "| 1.0               | 300                      |\n",
        "| 2.0               | 500                      |\n",
        "\n",
        "Tujuan Anda adalah memodelkan regresi linear (digambarkan sebagai garis lurus biru) yang melalui dua titik ini, sehingga Anda bisa memprediksi harga rumah lainnya—misalnya rumah dengan ukuran **1200 sqft**.\n"
      ],
      "id": "CInAx-bPdBXH"
    },
    {
      "cell_type": "markdown",
      "metadata": {
        "id": "UPDkh2gUdBXJ"
      },
      "source": [
        "Silakan jalankan sel kode berikut untuk membuat variabel `x_train` dan `y_train`. Data disimpan dalam array NumPy satu dimensi."
      ],
      "id": "UPDkh2gUdBXJ"
    },
    {
      "cell_type": "code",
      "execution_count": null,
      "metadata": {
        "id": "cAur_v8OdBXM"
      },
      "outputs": [],
      "source": [
        "# x_train adalah variabel input (ukuran dalam 1000 kaki persegi)\n",
        "# y_train adalah target (harga dalam ribuan dolar)\n",
        "x_train = np.array([1.0, 2.0])\n",
        "y_train = np.array([300.0, 500.0])\n",
        "print(f\"x_train = {x_train}\")\n",
        "print(f\"y_train = {y_train}\")"
      ],
      "id": "cAur_v8OdBXM"
    },
    {
      "cell_type": "markdown",
      "metadata": {
        "id": "4t7unla3dBXO"
      },
      "source": [
        ">**Catatan**: Latihan ini sering menggunakan format output Python [f-string'](https://docs.python.org/3/tutorial/inputoutput.html)."
      ],
      "id": "4t7unla3dBXO"
    },
    {
      "cell_type": "markdown",
      "metadata": {
        "id": "6xcP6gnMdBXS"
      },
      "source": [
        "### Jumlah Contoh Pelatihan `m`\n",
        "Anda akan menggunakan `m` untuk menyatakan jumlah contoh pelatihan (training examples). Array NumPy memiliki parameter `.shape`. `x_train.shape` akan mengembalikan tuple Python dengan elemen untuk setiap dimensi array. `x_train.shape[0]` menunjukkan panjang array tersebut, yang berarti jumlah contoh pelatihan, seperti ditunjukkan di bawah ini."
      ],
      "id": "6xcP6gnMdBXS"
    },
    {
      "cell_type": "code",
      "execution_count": null,
      "metadata": {
        "id": "gcxVgY1PdBXU"
      },
      "outputs": [],
      "source": [
        "# m adalah jumlah contoh pelatihan\n",
        "print(f\"x_train.shape: {x_train.shape}\")\n",
        "m = x_train.shape[0]\n",
        "print(f\"Jumlah contoh pelatihan adalah: {m}\")"
      ],
      "id": "gcxVgY1PdBXU"
    },
    {
      "cell_type": "markdown",
      "metadata": {
        "id": "Huz15YEWdBXW"
      },
      "source": [
        "Anda juga bisa menggunakan fungsi `len()` dalam Python untuk mendapatkan jumlah contoh, seperti berikut:"
      ],
      "id": "Huz15YEWdBXW"
    },
    {
      "cell_type": "code",
      "execution_count": null,
      "metadata": {
        "id": "O4U5kWvVdBXX"
      },
      "outputs": [],
      "source": [
        "# m adalah jumlah contoh pelatihan\n",
        "m = len(x_train)\n",
        "print(f\"Jumlah contoh pelatihan adalah: {m}\")"
      ],
      "id": "O4U5kWvVdBXX"
    },
    {
      "cell_type": "markdown",
      "metadata": {
        "id": "ITZFYHM3dBXY"
      },
      "source": [
        "### Training example `x_i, y_i`\n",
        "\n",
        "You will use (x$^{(i)}$, y$^{(i)}$) to denote the $i^{th}$ training example. Since Python is zero indexed, (x$^{(0)}$, y$^{(0)}$) is (1.0, 300.0) and (x$^{(1)}$, y$^{(1)}$) is (2.0, 500.0).\n",
        "\n",
        "To access a value in a Numpy array, one indexes the array with the desired offset. For example the syntax to access location zero of `x_train` is `x_train[0]`.\n",
        "Run the next code block below to get the $i^{th}$ training example."
      ],
      "id": "ITZFYHM3dBXY"
    },
    {
      "cell_type": "code",
      "execution_count": null,
      "metadata": {
        "id": "5cPU4ohJdBXZ"
      },
      "outputs": [],
      "source": [
        "i = 1 # Change this to 1 to see (x^1, y^1)\n",
        "\n",
        "x_i = x_train[i]\n",
        "y_i = y_train[i]\n",
        "print(f\"(x^({i}), y^({i})) = ({x_i}, {y_i})\")"
      ],
      "id": "5cPU4ohJdBXZ"
    },
    {
      "cell_type": "markdown",
      "metadata": {
        "id": "oQr7x2TsdBXb"
      },
      "source": [
        "### Plotting the data"
      ],
      "id": "oQr7x2TsdBXb"
    },
    {
      "cell_type": "markdown",
      "metadata": {
        "id": "iFdg8qUvdBXb"
      },
      "source": [
        "You can plot these two points using the `scatter()` function in the `matplotlib` library, as shown in the cell below.\n",
        "- The function arguments `marker` and `c` show the points as red crosses (the default is blue dots).\n",
        "\n",
        "You can use other functions in the `matplotlib` library to set the title and labels to display"
      ],
      "id": "iFdg8qUvdBXb"
    },
    {
      "cell_type": "code",
      "execution_count": null,
      "metadata": {
        "id": "D8Tbu5xtdBXd"
      },
      "outputs": [],
      "source": [
        "# Plot the data points\n",
        "plt.scatter(x_train, y_train, marker='x', c='r')\n",
        "# Set the title\n",
        "plt.title(\"Housing Prices\")\n",
        "# Set the y-axis label\n",
        "plt.ylabel('Price (in 1000s of dollars)')\n",
        "# Set the x-axis label\n",
        "plt.xlabel('Size (1000 sqft)')\n",
        "plt.show()"
      ],
      "id": "D8Tbu5xtdBXd"
    },
    {
      "cell_type": "markdown",
      "metadata": {
        "id": "deqd11YPdBXe"
      },
      "source": [
        "## Model function\n",
        "\n",
        "<img align=\"left\" src=\"https://github.com/s-yuflih/Lab_W1/blob/main/images/C1_W1_L3_S1_model.png?raw=1\"     style=\" width:380px; padding: 10px; \" > As described in lecture, the model function for linear regression (which is a function that maps from `x` to `y`) is represented as\n",
        "\n",
        "$$ f_{w,b}(x^{(i)}) = wx^{(i)} + b \\tag{1}$$\n",
        "\n",
        "The formula above is how you can represent straight lines - different values of $w$ and $b$ give you different straight lines on the plot. <br/> <br/> <br/> <br/> <br/>\n",
        "\n",
        "Let's try to get a better intuition for this through the code blocks below. Let's start with $w = 100$ and $b = 100$.\n",
        "\n",
        "**Note: You can come back to this cell to adjust the model's w and b parameters**"
      ],
      "id": "deqd11YPdBXe"
    },
    {
      "cell_type": "code",
      "execution_count": null,
      "metadata": {
        "id": "dO2JDhOAdBXf"
      },
      "outputs": [],
      "source": [
        "w = 200\n",
        "b = 100\n",
        "print(f\"w: {w}\")\n",
        "print(f\"b: {b}\")"
      ],
      "id": "dO2JDhOAdBXf"
    },
    {
      "cell_type": "markdown",
      "metadata": {
        "id": "oSyakUphdBXg"
      },
      "source": [
        "Now, let's compute the value of $f_{w,b}(x^{(i)})$ for your two data points. You can explicitly write this out for each data point as -\n",
        "\n",
        "for $x^{(0)}$, `f_wb = w * x[0] + b`\n",
        "\n",
        "for $x^{(1)}$, `f_wb = w * x[1] + b`\n",
        "\n",
        "For a large number of data points, this can get unwieldy and repetitive. So instead, you can calculate the function output in a `for` loop as shown in the `compute_model_output` function below.\n",
        "> **Note**: The argument description `(ndarray (m,))` describes a Numpy n-dimensional array of shape (m,). `(scalar)` describes an argument without dimensions, just a magnitude.  \n",
        "> **Note**: `np.zero(n)` will return a one-dimensional numpy array with $n$ entries   \n"
      ],
      "id": "oSyakUphdBXg"
    },
    {
      "cell_type": "code",
      "execution_count": null,
      "metadata": {
        "id": "vB5gkHJbdBXh"
      },
      "outputs": [],
      "source": [
        "def compute_model_output(x, w, b):\n",
        "    \"\"\"\n",
        "    Computes the prediction of a linear model\n",
        "    Args:\n",
        "      x (ndarray (m,)): Data, m examples\n",
        "      w,b (scalar)    : model parameters\n",
        "    Returns\n",
        "      f_wb (ndarray (m,)): model prediction\n",
        "    \"\"\"\n",
        "    m = x.shape[0]\n",
        "    f_wb = np.zeros(m)\n",
        "    for i in range(m):\n",
        "        f_wb[i] = w * x[i] + b\n",
        "\n",
        "    return f_wb"
      ],
      "id": "vB5gkHJbdBXh"
    },
    {
      "cell_type": "markdown",
      "metadata": {
        "id": "sEyOMa-qdBXh"
      },
      "source": [
        "Now let's call the `compute_model_output` function and plot the output.."
      ],
      "id": "sEyOMa-qdBXh"
    },
    {
      "cell_type": "code",
      "execution_count": null,
      "metadata": {
        "id": "70BusLIEdBXi"
      },
      "outputs": [],
      "source": [
        "tmp_f_wb = compute_model_output(x_train, w, b,)\n",
        "\n",
        "# Plot our model prediction\n",
        "plt.plot(x_train, tmp_f_wb, c='b',label='Our Prediction')\n",
        "\n",
        "# Plot the data points\n",
        "plt.scatter(x_train, y_train, marker='x', c='r',label='Actual Values')\n",
        "\n",
        "# Set the title\n",
        "plt.title(\"Housing Prices\")\n",
        "# Set the y-axis label\n",
        "plt.ylabel('Price (in 1000s of dollars)')\n",
        "# Set the x-axis label\n",
        "plt.xlabel('Size (1000 sqft)')\n",
        "plt.legend()\n",
        "plt.show()"
      ],
      "id": "70BusLIEdBXi"
    },
    {
      "cell_type": "markdown",
      "metadata": {
        "id": "Nce2ESahdBXj"
      },
      "source": [
        "As you can see, setting $w = 100$ and $b = 100$ does *not* result in a line that fits our data.\n",
        "\n",
        "### Challenge\n",
        "Try experimenting with different values of $w$ and $b$. What should the values be for a line that fits our data?\n",
        "\n",
        "#### Tip:\n",
        "You can use your mouse to click on the green \"Hints\" below to reveal some hints for choosing b and w."
      ],
      "id": "Nce2ESahdBXj"
    },
    {
      "cell_type": "markdown",
      "metadata": {
        "id": "npCgb_8vdBXk"
      },
      "source": [
        "<details>\n",
        "<summary>\n",
        "    <font size='3', color='darkgreen'><b>Hints</b></font>\n",
        "</summary>\n",
        "    <p>\n",
        "    <ul>\n",
        "        <li>Try $w = 200$ and $b = 100$ </li>\n",
        "    </ul>\n",
        "    </p>"
      ],
      "id": "npCgb_8vdBXk"
    },
    {
      "cell_type": "markdown",
      "metadata": {
        "id": "gXx_OnufdBXl"
      },
      "source": [
        "### Prediction\n",
        "Now that we have a model, we can use it to make our original prediction. Let's predict the price of a house with 1200 sqft. Since the units of $x$ are in 1000's of sqft, $x$ is 1.2.\n"
      ],
      "id": "gXx_OnufdBXl"
    },
    {
      "cell_type": "code",
      "execution_count": null,
      "metadata": {
        "id": "zWp0uK6DdBXm"
      },
      "outputs": [],
      "source": [
        "w = 200\n",
        "b = 100\n",
        "x_i = 1.2\n",
        "cost_1200sqft = w * x_i + b\n",
        "\n",
        "print(f\"${cost_1200sqft:.0f} thousand dollars\")"
      ],
      "id": "zWp0uK6DdBXm"
    },
    {
      "cell_type": "markdown",
      "metadata": {
        "id": "sSkoAjxvdBXm"
      },
      "source": [
        "# Congratulations!\n",
        "In this lab you have learned:\n",
        " - Linear regression builds a model which establishes a relationship between features and targets\n",
        "     - In the example above, the feature was house size and the target was house price\n",
        "     - for simple linear regression, the model has two parameters $w$ and $b$ whose values are 'fit' using *training data*.\n",
        "     - once a model's parameters have been determined, the model can be used to make predictions on novel data."
      ],
      "id": "sSkoAjxvdBXm"
    },
    {
      "cell_type": "code",
      "execution_count": null,
      "metadata": {
        "id": "uER31qOIdBXn"
      },
      "outputs": [],
      "source": [],
      "id": "uER31qOIdBXn"
    }
  ],
  "metadata": {
    "kernelspec": {
      "display_name": "Python 3",
      "language": "python",
      "name": "python3"
    },
    "language_info": {
      "codemirror_mode": {
        "name": "ipython",
        "version": 3
      },
      "file_extension": ".py",
      "mimetype": "text/x-python",
      "name": "python",
      "nbconvert_exporter": "python",
      "pygments_lexer": "ipython3",
      "version": "3.7.6"
    },
    "toc-autonumbering": false,
    "colab": {
      "provenance": []
    }
  },
  "nbformat": 4,
  "nbformat_minor": 5
}