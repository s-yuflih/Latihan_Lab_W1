{
  "cells": [
    {
      "cell_type": "markdown",
      "metadata": {
        "id": "iiQkVHrQ0HFh"
      },
      "source": [
        "# Cost Function\n",
        "<figure>\n",
        "    <center> <img src=\"https://github.com/s-yuflih/Latihan_Lab_W1/blob/main/images/C1_W1_L3_S2_Lecture_b.png?raw=1\"  style=\"width:1000px;height:200px;\" ></center>\n",
        "</figure>\n",
        "\n"
      ],
      "id": "iiQkVHrQ0HFh"
    },
    {
      "cell_type": "markdown",
      "metadata": {
        "id": "je9DlzDq0HFm"
      },
      "source": [
        "## Tujuan\n",
        "Dalam latihan ini Anda akan:\n",
        "- Anda akan mengimplementasikan dan mengeksplorasi fungsi `cost` untuk regresi linier dengan satu variabel."
      ],
      "id": "je9DlzDq0HFm"
    },
    {
      "cell_type": "markdown",
      "metadata": {
        "id": "0KJklGIM0HFn"
      },
      "source": [
        "## Tools\n",
        "Dalam latihan ini kita akan menggunakan:\n",
        "- NumPy, pustaka populer untuk komputasi ilmiah\n",
        "- Matplotlib, pustaka populer untuk memplot data\n",
        "- rutinitas plot lokal dalam file lab_utils_uni.py di direktori lokal"
      ],
      "id": "0KJklGIM0HFn"
    },
    {
      "cell_type": "code",
      "execution_count": null,
      "metadata": {
        "id": "mPo5Fbio0HFo"
      },
      "outputs": [],
      "source": [
        "import numpy as np\n",
        "%matplotlib widget\n",
        "import matplotlib.pyplot as plt\n",
        "from lab_utils_uni import plt_intuition, plt_stationary, plt_update_onclick, soup_bowl\n"
      ],
      "id": "mPo5Fbio0HFo"
    },
    {
      "cell_type": "markdown",
      "metadata": {
        "id": "W2XtR5-40HFq"
      },
      "source": [
        "## Pernyataan Masalah\n",
        "\n",
        "Anda ingin model yang dapat memprediksi harga rumah berdasarkan ukuran rumah.  \n",
        "Mari gunakan dua titik data yang sama seperti sebelumnya - sebuah rumah seluas 1000 kaki persegi dijual seharga \\$300.000 dan rumah seluas 2000 kaki persegi dijual seharga \\$500.000.\n",
        "\n",
        "| Ukuran (1000 sqft)     | Harga (ribu dolar) |\n",
        "| ---------------------- | ------------------ |\n",
        "| 1                      | 300                |\n",
        "| 2                      | 500                |\n"
      ],
      "id": "W2XtR5-40HFq"
    },
    {
      "cell_type": "code",
      "execution_count": null,
      "metadata": {
        "id": "IG0UhT7V0HFr"
      },
      "outputs": [],
      "source": [
        "x_train = np.array([1.0, 2.0])           # (ukuran dalam 1000 kaki persegi)\n",
        "y_train = np.array([300.0, 500.0])       # (harga dalam ribuan dolar)"
      ],
      "id": "IG0UhT7V0HFr"
    },
    {
      "cell_type": "markdown",
      "metadata": {
        "id": "fv6AtyGX0HFs"
      },
      "source": [
        "## Menghitung Biaya\n",
        "Istilah 'biaya' dalam latihan ini mungkin sedikit membingungkan karena datanya adalah harga rumah. Di sini, biaya adalah ukuran seberapa baik model kita memprediksi harga rumah. Istilah 'harga' digunakan untuk data rumah.\n",
        "\n",
        "Rumus biaya untuk satu variabel adalah:\n",
        "$$J(w,b) = \\frac{1}{2m} \\sum\\limits_{i = 0}^{m-1} (f_{w,b}(x^{(i)}) - y^{(i)})^2 \\tag{1}$$\n",
        "\n",
        "dimana\n",
        "$$f_{w,b}(x^{(i)}) = wx^{(i)} + b \\tag{2}$$\n",
        "\n",
        "- $f_{w,b}(x^{(i)})$ adalah prediksi kita untuk contoh $i$ menggunakan parameter $w,b$.  \n",
        "- $(f_{w,b}(x^{(i)}) -y^{(i)})^2$ adalah selisih kuadrat antara nilai target dan prediksi.  \n",
        "- Selisih-selisih ini dijumlahkan untuk semua $m$ contoh dan dibagi dengan `2m` untuk menghasilkan biaya $J(w,b)$.  \n",
        "> Catatan, dalam kuliah jangkauan penjumlahan biasanya dari 1 sampai m, sementara dalam kode dari 0 sampai m-1."
      ],
      "id": "fv6AtyGX0HFs"
    },
    {
      "cell_type": "markdown",
      "metadata": {
        "id": "KUyh9Gp70HFs"
      },
      "source": [
        "Kode di bawah ini menghitung biaya dengan melakukan loop pada setiap contoh. Dalam setiap loop:\n",
        "- `f_wb`, prediksi dihitung\n",
        "- selisih antara target dan prediksi dihitung dan dikuadratkan.\n",
        "- ini ditambahkan ke total biaya."
      ],
      "id": "KUyh9Gp70HFs"
    },
    {
      "cell_type": "code",
      "execution_count": null,
      "metadata": {
        "id": "s-XJ3laY0HFt"
      },
      "outputs": [],
      "source": [
        "def compute_cost(x, y, w, b):\n",
        "    \"\"\"\n",
        "    Menghitung fungsi biaya untuk regresi linier.\n",
        "\n",
        "    Argumen:\n",
        "      x (ndarray (m,)): Data, m contoh\n",
        "      y (ndarray (m,)): nilai target\n",
        "      w,b (skalar)    : parameter model\n",
        "\n",
        "    Mengembalikan\n",
        "        total_cost (float): Biaya menggunakan w,b sebagai parameter untuk regresi linier\n",
        "                             untuk menyesuaikan titik data dalam x dan y\n",
        "    \"\"\"\n",
        "    # jumlah contoh pelatihan\n",
        "    m = x.shape[0]\n",
        "\n",
        "    cost_sum = 0\n",
        "    for i in range(m):\n",
        "        f_wb = w * x[i] + b\n",
        "        cost = (f_wb - y[i]) ** 2\n",
        "        cost_sum = cost_sum + cost\n",
        "    total_cost = (1 / (2 * m)) * cost_sum\n",
        "\n",
        "    return total_cost"
      ],
      "id": "s-XJ3laY0HFt"
    },
    {
      "cell_type": "markdown",
      "metadata": {
        "id": "_goYodWz0HFu"
      },
      "source": [
        "## Intuisi Fungsi Biaya"
      ],
      "id": "_goYodWz0HFu"
    },
    {
      "cell_type": "markdown",
      "metadata": {
        "id": "Sobqy4FX0HFu"
      },
      "source": [
        "<img align=\"left\" src=\"https://github.com/s-yuflih/Latihan_Lab_W1/blob/main/images/C1_W1_Lab02_GoalOfRegression.PNG?raw=1\"    style=\" width:380px; padding: 10px;  \" />\n",
        "Tujuan Anda adalah menemukan model $f_{w,b}(x) = wx + b$ dengan parameter $w$ dan $b$, yang dapat secara akurat memprediksi harga rumah berdasarkan input $x$. Biaya adalah ukuran akurasi model terhadap data pelatihan.\n",
        "\n",
        "Persamaan biaya (1) menunjukkan bahwa jika $w$ dan $b$ dipilih sedemikian rupa sehingga prediksi $f_{w,b}(x)$ sesuai dengan data target $y$, maka nilai $(f_{w,b}(x^{(i)}) - y^{(i)})^2$ akan menjadi nol dan biaya akan minimum. Dalam contoh sederhana dua titik ini, Anda bisa mencapainya!\n",
        "\n",
        "Pada lab sebelumnya, Anda telah menentukan bahwa $b=100$ memberikan solusi optimal, maka mari kita tetapkan $b = 100$ dan fokus pada nilai $w$.\n",
        "\n",
        "Gunakan kontrol slider di bawah untuk memilih nilai $w$ yang meminimalkan biaya. Mungkin perlu beberapa detik untuk plot diperbarui."
      ],
      "id": "Sobqy4FX0HFu"
    },
    {
      "cell_type": "code",
      "execution_count": null,
      "metadata": {
        "id": "hy4kWZxE0HFw"
      },
      "outputs": [],
      "source": [
        "plt_intuition(x_train,y_train)"
      ],
      "id": "hy4kWZxE0HFw"
    },
    {
      "cell_type": "markdown",
      "metadata": {
        "id": "j5BIBLrV0HFx"
      },
      "source": [
        "Plot menunjukkan beberapa hal penting:\n",
        "- Biaya minimum saat $w = 200$, sesuai dengan hasil lab sebelumnya\n",
        "- Karena selisih antara target dan prediksi dikuadratkan dalam persamaan biaya, nilai biaya akan naik drastis jika $w$ terlalu besar atau terlalu kecil\n",
        "- Dengan memilih `w` dan `b` yang meminimalkan biaya, kita mendapatkan garis yang sangat sesuai dengan data\n"
      ],
      "id": "j5BIBLrV0HFx"
    },
    {
      "cell_type": "markdown",
      "metadata": {
        "id": "-hO_NzSt0HFx"
      },
      "source": [
        "## Visualisasi Fungsi Biaya - 3D\n",
        "\n",
        "Anda dapat melihat bagaimana biaya berubah terhadap *baik* `w` maupun `b` melalui plot 3D atau contour plot.  \n",
        "\n",
        "Perlu dicatat bahwa beberapa proses plotting dalam kursus ini bisa cukup kompleks. Rutin plotting telah disediakan dan meskipun berguna untuk membaca kodenya agar familiar, itu tidak wajib untuk menyelesaikan kursus ini. Rutin ini ada di file `lab_utils_uni.py`."
      ],
      "id": "-hO_NzSt0HFx"
    },
    {
      "cell_type": "markdown",
      "metadata": {
        "id": "4Yhv5DtG0HFy"
      },
      "source": [
        "### Dataset yang Lebih Besar\n",
        "Menarik juga untuk melihat skenario dengan lebih banyak titik data. Dataset ini berisi data yang tidak berada pada garis yang sama. Apa artinya ini bagi fungsi biaya? Apakah kita bisa menemukan $w$ dan $b$ yang menghasilkan biaya = 0?"
      ],
      "id": "4Yhv5DtG0HFy"
    },
    {
      "cell_type": "code",
      "execution_count": null,
      "metadata": {
        "id": "XNiN7L4p0HFy"
      },
      "outputs": [],
      "source": [
        "x_train = np.array([1.0, 1.7, 2.0, 2.5, 3.0, 3.2])\n",
        "y_train = np.array([250, 300, 480,  430,   630, 730,])"
      ],
      "id": "XNiN7L4p0HFy"
    },
    {
      "cell_type": "markdown",
      "metadata": {
        "id": "cO5LmKvO0HFy"
      },
      "source": [
        "Dalam plot kontur (contour plot), klik pada sebuah titik untuk memilih nilai `w` dan `b` yang menghasilkan biaya terendah. Gunakan kontur sebagai panduan dalam memilih. Perlu beberapa detik agar grafik diperbarui."
      ],
      "id": "cO5LmKvO0HFy"
    },
    {
      "cell_type": "code",
      "execution_count": null,
      "metadata": {
        "id": "L_DNxpxU0HFz"
      },
      "outputs": [],
      "source": [
        "plt.close('all')\n",
        "fig, ax, dyn_items = plt_stationary(x_train, y_train)\n",
        "updater = plt_update_onclick(fig, ax, x_train, y_train, dyn_items)"
      ],
      "id": "L_DNxpxU0HFz"
    },
    {
      "cell_type": "markdown",
      "metadata": {
        "id": "IOemQc-40HFz"
      },
      "source": [
        "Di atas, perhatikan garis putus-putus pada plot sebelah kiri. Garis ini menunjukkan kontribusi biaya dari masing-masing contoh dalam dataset pelatihan Anda. Dalam kasus ini, nilai sekitar $w=209$ dan $b=2.4$ memberikan biaya yang rendah. Perlu dicatat bahwa karena contoh pelatihan kita tidak berada pada satu garis lurus, maka biaya minimum tidak akan nol."
      ],
      "id": "IOemQc-40HFz"
    },
    {
      "cell_type": "markdown",
      "metadata": {
        "id": "qYJoKpcn0HF0"
      },
      "source": [
        "### Convex Cost surface\n",
        "Fakta bahwa fungsi biaya mengkuadratkan selisih prediksi dan target memastikan bahwa 'permukaan error' berbentuk cekung seperti mangkuk sup. Akan selalu ada titik minimum yang bisa dicapai dengan mengikuti gradien ke segala arah. Pada plot sebelumnya, karena skala sumbu $w$ dan $b$ berbeda, bentuk ini tidak mudah dikenali. Plot berikut menampilkan bentuk simetris dari $w$ dan $b$, seperti yang ditunjukkan dalam modul:"
      ],
      "id": "qYJoKpcn0HF0"
    },
    {
      "cell_type": "code",
      "execution_count": null,
      "metadata": {
        "id": "qH5XfR5x0HF0"
      },
      "outputs": [],
      "source": [
        "soup_bowl()"
      ],
      "id": "qH5XfR5x0HF0"
    },
    {
      "cell_type": "code",
      "execution_count": null,
      "metadata": {
        "id": "N8s45Nho0HF2"
      },
      "outputs": [],
      "source": [],
      "id": "N8s45Nho0HF2"
    }
  ],
  "metadata": {
    "kernelspec": {
      "display_name": "Python 3",
      "language": "python",
      "name": "python3"
    },
    "language_info": {
      "codemirror_mode": {
        "name": "ipython",
        "version": 3
      },
      "file_extension": ".py",
      "mimetype": "text/x-python",
      "name": "python",
      "nbconvert_exporter": "python",
      "pygments_lexer": "ipython3",
      "version": "3.7.6"
    },
    "toc-autonumbering": false,
    "colab": {
      "provenance": []
    }
  },
  "nbformat": 4,
  "nbformat_minor": 5
}